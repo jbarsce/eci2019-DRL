{
 "cells": [
  {
   "cell_type": "markdown",
   "metadata": {},
   "source": [
    "Implementación:\n",
    "\n",
    "* Entorno: \"academy_empty_goal_close\"\n",
    "* Representación: simple115 (115 estados)\n",
    "* Conjunto de acciones: \"default\" (21 acciones)"
   ]
  },
  {
   "cell_type": "markdown",
   "metadata": {},
   "source": [
    "Solución inicial: agente random\n",
    "\n",
    "Resultado inicial: 0.82 de recompensa promedio de los últimos 50 episodios"
   ]
  },
  {
   "cell_type": "markdown",
   "metadata": {},
   "source": [
    "Solución 2: 1000 episodios\n",
    "\n",
    "Arquitectura: agente DQN con red neuronal de 115 entradas, 2 capas ocultas con activación ReLU, 64 capas ocultas y capa de salida con 21 neuronas\n",
    "\n",
    "Política $\\epsilon$-greedy con $\\epsilon_{inicial}=0.99$, decay rate de\n",
    "$\\epsilon=0.995$, $\\epsilon_{minimo} = 0.01$. En los últimos 50 episodios, $\\epsilon \\gets 0$ por motivos de test de la política aprendida.\n",
    "\n",
    "Resultado: de recompensa promedio de los últimos 50 episodios\n",
    "\n",
    "Curva de convergencia:"
   ]
  },
  {
   "cell_type": "markdown",
   "metadata": {},
   "source": [
    "![](dqn_image_1.png)"
   ]
  },
  {
   "cell_type": "markdown",
   "metadata": {},
   "source": []
  }
 ],
 "metadata": {
  "kernelspec": {
   "display_name": "Python 3",
   "language": "python",
   "name": "python3"
  },
  "language_info": {
   "codemirror_mode": {
    "name": "ipython",
    "version": 3
   },
   "file_extension": ".py",
   "mimetype": "text/x-python",
   "name": "python",
   "nbconvert_exporter": "python",
   "pygments_lexer": "ipython3",
   "version": "3.6.6"
  }
 },
 "nbformat": 4,
 "nbformat_minor": 2
}
